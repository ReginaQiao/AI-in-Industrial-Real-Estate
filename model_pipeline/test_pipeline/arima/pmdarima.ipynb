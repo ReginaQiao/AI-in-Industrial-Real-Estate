{
 "cells": [
  {
   "cell_type": "code",
   "execution_count": null,
   "id": "ba55039f",
   "metadata": {},
   "outputs": [],
   "source": [
    "import numpy as np\n",
    "import pandas as pd\n",
    "import matplotlib.pyplot as plt\n",
    "import pmdarima as pm\n",
    "from pmdarima.arima.stationarity import ADFTest\n",
    "from pmdarima.arima import ndiffs\n",
    "from sklearn.metrics import mean_squared_error\n",
    "from pmdarima.metrics import smape\n",
    "from statsmodels.tsa.arima.model import ARIMA"
   ]
  },
  {
   "cell_type": "code",
   "execution_count": null,
   "id": "8e33108a",
   "metadata": {},
   "outputs": [],
   "source": [
    "df = pd.read_csv('/home/zqiao/data_flake/imputed data/pho_t_data.csv',index_col=0)"
   ]
  },
  {
   "cell_type": "code",
   "execution_count": null,
   "id": "994705f7",
   "metadata": {},
   "outputs": [],
   "source": [
    "df.head()"
   ]
  },
  {
   "cell_type": "code",
   "execution_count": null,
   "id": "f7194027",
   "metadata": {},
   "outputs": [],
   "source": [
    "df.info()"
   ]
  },
  {
   "cell_type": "code",
   "execution_count": null,
   "id": "1f5c1c4b",
   "metadata": {},
   "outputs": [],
   "source": [
    "submkt_id = 'PHO038'\n",
    "ntest = 24"
   ]
  },
  {
   "cell_type": "code",
   "execution_count": null,
   "id": "45f126b9",
   "metadata": {},
   "outputs": [],
   "source": [
    "# Check stationarity\n",
    "grouped = df.groupby('research_submkt_id')\n",
    "for name,group in grouped:\n",
    "    if name == submkt_id:\n",
    "        exo = group[[\n",
    "            \"real_market_level_rent\",\n",
    "            \"gdp_histfc\",\n",
    "            \"employment_histfc\",\n",
    "            \"real_ecommerce\",\n",
    "            \"spread_3m10y\",\n",
    "            \"imports_us\",\n",
    "            \"expots_us\",\n",
    "            \"ecomm^2_pop\",\n",
    "            \"weighted_pop_estimate_cryr\",\n",
    "            \"weighted_hh_estimate_cryr\"]]\n",
    "        adf_test = ADFTest(alpha=0.05)\n",
    "        p_val, should_diff = adf_test.should_diff(group['real_hedonic_rent_submarket'])\n",
    "        kpss_diffs = ndiffs(group['real_hedonic_rent_submarket'], alpha=0.05, test='kpss', max_d=6)\n",
    "        adf_diffs = ndiffs(group['real_hedonic_rent_submarket'], alpha=0.05, test='adf', max_d=6)\n",
    "        n_diffs = max(adf_diffs, kpss_diffs)\n",
    "        print(name,': ',p_val,should_diff,n_diffs)\n",
    "        \n",
    "        Y_train = group['real_hedonic_rent_submarket'][:-ntest]\n",
    "        Y_test = group['real_hedonic_rent_submarket'][-ntest:]\n",
    "        X_train = exo.iloc[:-ntest,:]\n",
    "        X_test = exo.iloc[-ntest:,:]\n",
    "        auto = pm.auto_arima(Y_train, X_train, d=n_diffs, \n",
    "                         suppress_warnings=True, error_action=\"ignore\", \n",
    "                         min_p=1,min_q=1,max_p=6,max_q=6,\n",
    "                         stepwise=True, scoring=smape,\n",
    "                         max_order=None, trace=True)\n",
    "        print(auto.summary())"
   ]
  },
  {
   "cell_type": "code",
   "execution_count": null,
   "id": "8d5e0783",
   "metadata": {},
   "outputs": [],
   "source": [
    "model = auto\n",
    "forecasts = model.predict(24, X_test)\n",
    "\n",
    "# Print evaluation metrics\n",
    "mse = mean_squared_error(Y_test, forecasts)\n",
    "smape_ = smape(Y_test, forecasts)\n",
    "print(f\"Mean squared error: {mse}\")\n",
    "print(f\"SMAPE: {smape_}\")"
   ]
  },
  {
   "cell_type": "code",
   "execution_count": null,
   "id": "f410e5f5",
   "metadata": {},
   "outputs": [],
   "source": [
    "fig, axes = plt.subplots(2, 1, figsize=(12, 12))\n",
    "\n",
    "# --------------------- Actual vs. Predicted --------------------------\n",
    "axes[0].plot(y_train, color='blue', label='Training Data')\n",
    "axes[0].plot(test_data.index, forecasts, color='green', marker='o',\n",
    "             label='Predicted Price')\n",
    "\n",
    "axes[0].plot(test_data.index, y_test, color='red', label='Actual Price')\n",
    "axes[0].set_title('Microsoft Prices Prediction')\n",
    "axes[0].set_xlabel('Dates')\n",
    "axes[0].set_ylabel('Prices')\n",
    "\n",
    "axes[0].set_xticks(np.arange(0, 7982, 1300).tolist(), df['Date'][0:7982:1300].tolist())\n",
    "axes[0].legend()\n",
    "\n",
    "\n",
    "# ------------------ Predicted with confidence intervals ----------------\n",
    "axes[1].plot(y_train, color='blue', label='Training Data')\n",
    "axes[1].plot(test_data.index, forecasts, color='green',\n",
    "             label='Predicted Price')\n",
    "\n",
    "axes[1].set_title('Prices Predictions & Confidence Intervals')\n",
    "axes[1].set_xlabel('Dates')\n",
    "axes[1].set_ylabel('Prices')\n",
    "\n",
    "conf_int = np.asarray(confidence_intervals)\n",
    "axes[1].fill_between(test_data.index,\n",
    "                     conf_int[:, 0], conf_int[:, 1],\n",
    "                     alpha=0.9, color='orange',\n",
    "                     label=\"Confidence Intervals\")\n",
    "\n",
    "axes[1].set_xticks(np.arange(0, 7982, 1300).tolist(), df['Date'][0:7982:1300].tolist())\n",
    "axes[1].legend()"
   ]
  },
  {
   "cell_type": "code",
   "execution_count": null,
   "id": "f07138fb",
   "metadata": {},
   "outputs": [],
   "source": []
  }
 ],
 "metadata": {
  "kernelspec": {
   "display_name": "Python 3 (ipykernel)",
   "language": "python",
   "name": "python3"
  },
  "language_info": {
   "codemirror_mode": {
    "name": "ipython",
    "version": 3
   },
   "file_extension": ".py",
   "mimetype": "text/x-python",
   "name": "python",
   "nbconvert_exporter": "python",
   "pygments_lexer": "ipython3",
   "version": "3.9.12"
  }
 },
 "nbformat": 4,
 "nbformat_minor": 5
}
