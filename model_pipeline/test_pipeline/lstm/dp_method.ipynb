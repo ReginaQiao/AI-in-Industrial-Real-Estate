{
 "cells": [
  {
   "cell_type": "code",
   "execution_count": null,
   "id": "10d3f350",
   "metadata": {},
   "outputs": [],
   "source": [
    "import numpy as np\n",
    "import pandas as pd\n",
    "import ast\n",
    "import matplotlib.pyplot as plt\n",
    "import multiprocessing as mp\n",
    "from datetime import datetime as dtm\n",
    "from typing import Optional, Sequence\n",
    "from darts.dataprocessing.transformers import Scaler\n",
    "\n",
    "from darts.metrics import mape, smape, mae\n",
    "\n",
    "from darts.models.forecasting.varima import VARIMA\n",
    "from darts.timeseries import TimeSeries as TS\n",
    "from sklearn.model_selection import ParameterGrid as PG"
   ]
  },
  {
   "cell_type": "code",
   "execution_count": null,
   "id": "9b4c4d4c",
   "metadata": {},
   "outputs": [],
   "source": [
    "def load_training_data(market_name):\n",
    "    df = pd.read_csv('/home/zqiao/data_flake/imputed data/{}_train_data_new.csv'.format(market_name), index_col=0)\n",
    "    df['date'] = pd.to_datetime(df['date'])\n",
    "    df = df.set_index('date')\n",
    "    return df\n",
    "\n",
    "def get_data_pipeline(market_name: str = None,\n",
    "                      submkt_id: Optional[Sequence[str]] = None, \n",
    "                      target = \"real_hedonic_rent_submarket\",\n",
    "                      features: list = None,\n",
    "                        target_rolling: bool = None,\n",
    "                        a_shift: bool = None,\n",
    "                        ntest: int = None,\n",
    "                        nlag: int = None,\n",
    "                       ):\n",
    "    \n",
    "    if market_name is None:\n",
    "        market_name = 'pho'\n",
    "    \n",
    "    if submkt_id is None:\n",
    "        submkt_id = 'PHO037'\n",
    "\n",
    "    df = load_training_data(market_name)\n",
    "\n",
    "    grouped_df = df.groupby('research_submkt_id')\n",
    "    for submkt, submkt_group in grouped_df:\n",
    "        if submkt == submkt_id:\n",
    "            submkt_df = submkt_group\n",
    "    \n",
    "    if ntest is None:\n",
    "        ntest = 12\n",
    "    \n",
    "    if nlag is None:\n",
    "        nlag = 6\n",
    "        \n",
    "    if features is None:\n",
    "        features = [\n",
    "            \"gdp_histfc\",\n",
    "            \"manufacturing_employment_histfc\",\n",
    "            \"real_ecommerce\",\n",
    "            \"spread_3m10y\",\n",
    "            \"real_retail_sales_ex_gas\",\n",
    "            \"ecomm_pop\",\n",
    "            \"weighted_pop_estimate_cryr\",\n",
    "            \"weighted_hh_estimate_cryr\"]\n",
    "    \n",
    "    target_cols = [target, \"avrate\"]\n",
    "    pdf = submkt_df[target_cols + features].copy()\n",
    "    \n",
    "    if a_shift:\n",
    "        pdf[\"avrate\"] = pdf[\"avrate\"].shift(3)\n",
    "        \n",
    "        for col in features:\n",
    "            pdf[col] = pdf[col].shift(nlags)\n",
    "\n",
    "    if target_rolling:\n",
    "        pdf[target] = pdf[target].rolling(3).mean()\n",
    "   \n",
    "    pdf = pdf.dropna()\n",
    "    X = TS.from_dataframe(pdf[features])\n",
    "    Y = TS.from_dataframe(pdf[target_cols])\n",
    "    X_train, X_test = X[:-ntest], X[-ntest:]\n",
    "    Y_train, Y_test = Y[:-ntest], Y[-ntest:]\n",
    "    \n",
    "    \n",
    "    \n",
    "\n",
    "    return X, Y, X_train, Y_train, X_test, Y_test"
   ]
  },
  {
   "cell_type": "code",
   "execution_count": null,
   "id": "dff312f6",
   "metadata": {},
   "outputs": [],
   "source": [
    "X, Y, X_train, Y_train, X_test, Y_test = get_data_pipeline(\n",
    "    market_name = 'pho',\n",
    "    submkt_id = 'PHO037', \n",
    "    target = 'real_hedonic_rent_submarket',\n",
    "    features = None,\n",
    "    target_rolling = False,\n",
    "    a_shift = False,\n",
    "    ntest = 36,\n",
    "    nlag = 0)"
   ]
  },
  {
   "cell_type": "code",
   "execution_count": null,
   "id": "b6e7d67c",
   "metadata": {},
   "outputs": [],
   "source": []
  },
  {
   "cell_type": "code",
   "execution_count": null,
   "id": "f30f1c4a",
   "metadata": {},
   "outputs": [],
   "source": []
  },
  {
   "cell_type": "code",
   "execution_count": null,
   "id": "e16052dd",
   "metadata": {},
   "outputs": [],
   "source": []
  },
  {
   "cell_type": "code",
   "execution_count": null,
   "id": "15e1cbd7",
   "metadata": {},
   "outputs": [],
   "source": [
    "transformer = Scaler()\n",
    "Y_train_transformed = transformer.fit_transform(Y_train)\n",
    "Y_test_transformed = transformer.transform(Y_test)\n",
    "series_transformed = transformer.transform(Y)"
   ]
  },
  {
   "cell_type": "code",
   "execution_count": null,
   "id": "bb5f2f5f",
   "metadata": {},
   "outputs": [],
   "source": []
  },
  {
   "cell_type": "code",
   "execution_count": null,
   "id": "e13caa2d",
   "metadata": {},
   "outputs": [],
   "source": [
    "from pytorch_lightning.callbacks.early_stopping import EarlyStopping\n",
    "from darts.models import RNNModel\n",
    "\n",
    "my_model = RNNModel(\n",
    "    model=\"RNN\",\n",
    "    hidden_dim=4,\n",
    "    dropout=0,\n",
    "    n_epochs=200,\n",
    "    optimizer_kwargs={\"lr\": 1e-1},\n",
    "    model_name=\"Submkt_RNN\",\n",
    "    force_reset=True,\n",
    "    random_state=66,\n",
    "    input_chunk_length=6,\n",
    "    output_chunk_length=1,\n",
    "    save_checkpoints=True,\n",
    ")\n",
    "\n",
    "\n",
    "my_model.fit(\n",
    "    Y_train_transformed,\n",
    "    future_covariates=X,\n",
    "    verbose=True\n",
    "\n",
    ")"
   ]
  },
  {
   "cell_type": "code",
   "execution_count": null,
   "id": "11777e38",
   "metadata": {},
   "outputs": [],
   "source": [
    "\n",
    "# stop training when validation loss does not decrease more than 0.05 (`min_delta`) over\n",
    "# a period of 5 epochs (`patience`)\n",
    "my_stopper = EarlyStopping(\n",
    "    monitor=\"val_loss\",\n",
    "    min_delta=0.01,\n",
    "    mode='min',\n",
    ")\n",
    "\n",
    "pl_trainer_kwargs={\"callbacks\": [my_stopper]}"
   ]
  },
  {
   "cell_type": "code",
   "execution_count": null,
   "id": "379b946a",
   "metadata": {},
   "outputs": [],
   "source": []
  },
  {
   "cell_type": "code",
   "execution_count": null,
   "id": "fd587053",
   "metadata": {},
   "outputs": [],
   "source": []
  },
  {
   "cell_type": "code",
   "execution_count": null,
   "id": "272932ba",
   "metadata": {},
   "outputs": [],
   "source": []
  },
  {
   "cell_type": "code",
   "execution_count": null,
   "id": "b3a3886d",
   "metadata": {},
   "outputs": [],
   "source": []
  },
  {
   "cell_type": "code",
   "execution_count": null,
   "id": "ec217949",
   "metadata": {},
   "outputs": [],
   "source": []
  },
  {
   "cell_type": "code",
   "execution_count": null,
   "id": "a87f069b",
   "metadata": {},
   "outputs": [],
   "source": [
    "sma"
   ]
  },
  {
   "cell_type": "code",
   "execution_count": null,
   "id": "b7f77f3e",
   "metadata": {},
   "outputs": [],
   "source": [
    "Y_test_pred = my_model.predict(n=len(Y_test_transformed), future_covariates=X)\n",
    "Y_test_pred = transformer.inverse_transform(Y_test_pred)"
   ]
  },
  {
   "cell_type": "code",
   "execution_count": null,
   "id": "8a9ea821",
   "metadata": {},
   "outputs": [],
   "source": []
  },
  {
   "cell_type": "code",
   "execution_count": null,
   "id": "4af63780",
   "metadata": {},
   "outputs": [],
   "source": []
  },
  {
   "cell_type": "code",
   "execution_count": null,
   "id": "ae76c4b0",
   "metadata": {},
   "outputs": [],
   "source": []
  },
  {
   "cell_type": "code",
   "execution_count": null,
   "id": "12a70061",
   "metadata": {},
   "outputs": [],
   "source": []
  },
  {
   "cell_type": "code",
   "execution_count": null,
   "id": "eb38d043",
   "metadata": {},
   "outputs": [],
   "source": [
    "smape(Y_test_pred,Y_test)"
   ]
  },
  {
   "cell_type": "code",
   "execution_count": null,
   "id": "8f1bd5c8",
   "metadata": {},
   "outputs": [],
   "source": [
    "Y_test_pred.plot()\n",
    "Y_train.plot(label=\"actual\")"
   ]
  },
  {
   "cell_type": "code",
   "execution_count": null,
   "id": "7bc48fca",
   "metadata": {},
   "outputs": [],
   "source": []
  },
  {
   "cell_type": "code",
   "execution_count": null,
   "id": "cb58888f",
   "metadata": {},
   "outputs": [],
   "source": []
  },
  {
   "cell_type": "code",
   "execution_count": null,
   "id": "a6471f51",
   "metadata": {},
   "outputs": [],
   "source": []
  },
  {
   "cell_type": "code",
   "execution_count": null,
   "id": "61eec3de",
   "metadata": {},
   "outputs": [],
   "source": []
  },
  {
   "cell_type": "code",
   "execution_count": null,
   "id": "250e76c5",
   "metadata": {},
   "outputs": [],
   "source": [
    " "
   ]
  },
  {
   "cell_type": "code",
   "execution_count": null,
   "id": "9a1aa2cb",
   "metadata": {},
   "outputs": [],
   "source": [
    "def eval_model(model):\n",
    "    pred_series = model.predict(n=12, future_covariates=X)\n",
    "    plt.figure(figsize=(8, 5))\n",
    "    Y_test.plot(label=\"actual\")\n",
    "    pred_series.plot(label=\"forecast\")\n",
    "    plt.title(\"MAPE: {:.2f}%\".format(mape(pred_series, val_transformed)))\n",
    "    plt.legend()\n",
    "\n",
    "\n",
    "eval_model(my_model)"
   ]
  },
  {
   "cell_type": "code",
   "execution_count": null,
   "id": "acc26be5",
   "metadata": {},
   "outputs": [],
   "source": []
  },
  {
   "cell_type": "code",
   "execution_count": null,
   "id": "7b5a3d84",
   "metadata": {},
   "outputs": [],
   "source": [
    "X_test_transformed"
   ]
  },
  {
   "cell_type": "code",
   "execution_count": null,
   "id": "2f5e58af",
   "metadata": {},
   "outputs": [],
   "source": [
    "X_train_transformed"
   ]
  },
  {
   "cell_type": "code",
   "execution_count": null,
   "id": "c698ac36",
   "metadata": {},
   "outputs": [],
   "source": [
    "Y_train_transformed"
   ]
  },
  {
   "cell_type": "code",
   "execution_count": null,
   "id": "155c1cf2",
   "metadata": {},
   "outputs": [],
   "source": [
    "Y_test_transformed"
   ]
  },
  {
   "cell_type": "code",
   "execution_count": null,
   "id": "deadd0d1",
   "metadata": {},
   "outputs": [],
   "source": [
    "from darts.models import NBEATSModel\n",
    "model = NBEATSModel(input_chunk_length=12,\n",
    "                    output_chunk_length=6,\n",
    "                    random_state=66)\n",
    "model.fit(Y_train,\n",
    "          past_covariates=X_train,\n",
    "          epochs=10,\n",
    "          verbose=True)"
   ]
  },
  {
   "cell_type": "code",
   "execution_count": null,
   "id": "eb346d07",
   "metadata": {},
   "outputs": [],
   "source": [
    "Y_pred = model.predict(series=Y_train, past_covariates=X_train, n=6)"
   ]
  },
  {
   "cell_type": "code",
   "execution_count": null,
   "id": "cc65d801",
   "metadata": {},
   "outputs": [],
   "source": [
    "Y_pred.plot()\n"
   ]
  },
  {
   "cell_type": "code",
   "execution_count": null,
   "id": "ea51e541",
   "metadata": {},
   "outputs": [],
   "source": [
    "Y_pred = transformer.inverse_transform(series=Y_pred)"
   ]
  },
  {
   "cell_type": "code",
   "execution_count": null,
   "id": "99ac00bd",
   "metadata": {},
   "outputs": [],
   "source": [
    "Y_train.plot()"
   ]
  },
  {
   "cell_type": "code",
   "execution_count": null,
   "id": "bbe72a60",
   "metadata": {},
   "outputs": [],
   "source": [
    "Y_pred.plot()\n"
   ]
  },
  {
   "cell_type": "code",
   "execution_count": null,
   "id": "8070a374",
   "metadata": {},
   "outputs": [],
   "source": []
  }
 ],
 "metadata": {
  "kernelspec": {
   "display_name": "Python 3 (ipykernel)",
   "language": "python",
   "name": "python3"
  },
  "language_info": {
   "codemirror_mode": {
    "name": "ipython",
    "version": 3
   },
   "file_extension": ".py",
   "mimetype": "text/x-python",
   "name": "python",
   "nbconvert_exporter": "python",
   "pygments_lexer": "ipython3",
   "version": "3.9.12"
  }
 },
 "nbformat": 4,
 "nbformat_minor": 5
}
