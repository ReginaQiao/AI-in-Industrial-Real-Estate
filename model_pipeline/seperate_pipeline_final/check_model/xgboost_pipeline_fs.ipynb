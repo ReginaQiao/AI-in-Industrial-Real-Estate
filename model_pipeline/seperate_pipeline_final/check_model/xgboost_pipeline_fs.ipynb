{
 "cells": [
  {
   "cell_type": "code",
   "execution_count": null,
   "id": "0235e852",
   "metadata": {},
   "outputs": [],
   "source": [
    "import pandas as pd\n",
    "import numpy as np\n",
    "import matplotlib.pyplot as plt\n",
    "import itertools\n",
    "import multiprocessing as mp\n",
    "from typing import List, Optional\n",
    "from sklearn.model_selection import GridSearchCV\n",
    "from sklearn.metrics import make_scorer\n",
    "from xgboost import XGBRegressor\n",
    "from sklearn.model_selection import ParameterGrid as PG\n",
    "import time\n",
    "from sklearn.feature_selection import mutual_info_regression as MIR"
   ]
  },
  {
   "cell_type": "code",
   "execution_count": null,
   "id": "6732144a",
   "metadata": {},
   "outputs": [],
   "source": [
    "def get_important_features(df, feature_space, k, thresh):\n",
    "    submarket_features_dict = {}\n",
    "    y = df['real_hedonic_rent_submarket']\n",
    "    X = df[feature_space]  \n",
    "\n",
    "    mi_scores = MIR(X, y)\n",
    "    #print(mi_scores)\n",
    "\n",
    "    features = []\n",
    "    if thresh:\n",
    "        mi_score_selected_index = np.where(mi_scores > thresh)[0]\n",
    "        features = X.columns[mi_score_selected_index].tolist()\n",
    "        #print(f\"num features above mi thresh for submarket {name}: {len(features)}\")\n",
    "\n",
    "    if k:\n",
    "        mi_score_selected_index = np.argsort(mi_scores)[::-1][:k]\n",
    "        features = X.columns[mi_score_selected_index].tolist()\n",
    "\n",
    "    return features\n"
   ]
  },
  {
   "cell_type": "code",
   "execution_count": null,
   "id": "7d7f5d35",
   "metadata": {},
   "outputs": [],
   "source": [
    "def ntest_split_data_by_submarket(data, ntest):\n",
    "    train_data = pd.DataFrame()\n",
    "    test_data = pd.DataFrame()\n",
    "    submarkets = data['research_submkt_id'].unique()\n",
    "\n",
    "    for submarket in submarkets:\n",
    "        submarket_data = data[data['research_submkt_id'] == submarket]\n",
    "        train_submarket = submarket_data.iloc[:-ntest]\n",
    "        test_submarket = submarket_data.iloc[-ntest:]\n",
    "        train_data = pd.concat([train_data, train_submarket])\n",
    "        test_data = pd.concat([test_data, test_submarket])\n",
    "\n",
    "    return train_data, test_data\n",
    "\n",
    "\n",
    "def smape(y_true, y_pred):\n",
    "    y_true = np.array(y_true)\n",
    "    y_pred = np.array(y_pred)\n",
    "    numerator = np.abs(y_pred - y_true)\n",
    "    denominator = (np.abs(y_true) + np.abs(y_pred)) / 2\n",
    "\n",
    "    return np.mean(numerator / denominator) * 100\n",
    "\n",
    "\n",
    "def all_get_submkt_forecast(df, num_lags, ntest, feature_subset):\n",
    "    df_new = df[['date', 'research_submkt_id', 'real_hedonic_rent_submarket']]\n",
    "    df_new['date'] = pd.to_datetime(df_new['date'])\n",
    "    df['date'] = pd.to_datetime(df['date'])\n",
    "\n",
    "    if num_lags is None:\n",
    "        num_lags = 36\n",
    "    \n",
    "    num_lags = num_lags  \n",
    "    for lag in range(1, num_lags+1):\n",
    "        df_new['rent_{}months_ago'.format(lag)] = df_new.groupby('research_submkt_id')['real_hedonic_rent_submarket'].shift(lag)\n",
    "    df_new = df_new.dropna()\n",
    "    df_new = df_new.sort_values(['date', 'research_submkt_id']).reset_index(drop=True)\n",
    "    \n",
    "    df_sel = df[['date', 'research_submkt_id']+feature_subset]\n",
    "    df_new = df_new.merge(df_sel, on=['date', 'research_submkt_id'], how='left')\n",
    "\n",
    "    X = df_new.iloc[:, [0, 1] + list(range(3, len(df_new.columns)))]\n",
    "    Y = df_new.iloc[:, :3]\n",
    "\n",
    "    Y_train, Y_test = ntest_split_data_by_submarket(Y, ntest)\n",
    "    y_train = Y_train.iloc[:, -1]\n",
    "    y_test = Y_test.iloc[:, -1]\n",
    "    X_train, X_test = ntest_split_data_by_submarket(X, ntest)\n",
    "    x_train = X_train.iloc[:, 2:]\n",
    "    x_test = X_test.iloc[:, 2:]\n",
    "\n",
    "    param_grid = {\n",
    "    'n_estimators': [100, 200],\n",
    "    'max_depth': [3, 4, 5],\n",
    "    'learning_rate': [0.1, 0.01, 0.001]\n",
    "    }\n",
    "\n",
    "    model = XGBRegressor()\n",
    "    grid_search = GridSearchCV(estimator=model, param_grid=param_grid, cv=3, scoring='neg_mean_squared_error')\n",
    "    grid_search.fit(x_train, y_train)\n",
    "\n",
    "    # Get the best parameters and best score\n",
    "    best_params = grid_search.best_params_\n",
    "    best_score = -grid_search.best_score_\n",
    "    print(\"Best Parameters:\", best_params)\n",
    "    print(\"Best Score (RMSE):\", best_score)\n",
    "    \n",
    "\n",
    "    best_model = XGBRegressor(**best_params)\n",
    "    best_model.fit(x_train, y_train)\n",
    "\n",
    "    importance_scores = best_model.feature_importances_\n",
    "    attribute_names = x_train.columns\n",
    "    attribute_importance_dict = dict(zip(attribute_names, importance_scores))\n",
    "\n",
    "    y_pred = best_model.predict(x_test)\n",
    "\n",
    "    Y_test_pred = Y_test.copy()\n",
    "    Y_test_pred['y_pred'] = y_pred\n",
    "\n",
    "    whole_smape = smape(y_test, y_pred)\n",
    "\n",
    "    smape_dic = {}\n",
    "    submkt_id = df_new['research_submkt_id'].unique().tolist()\n",
    "    for submkt in submkt_id:\n",
    "        y_submkt_test = Y_test_pred[Y_test_pred['research_submkt_id'] == submkt]['real_hedonic_rent_submarket']\n",
    "        y_submkt_pred = Y_test_pred[Y_test_pred['research_submkt_id'] == submkt]['y_pred']\n",
    "        submkt_smape = smape(y_submkt_test, y_submkt_pred)\n",
    "        smape_dic[submkt] = submkt_smape\n",
    "\n",
    "    # print(f\"{submkt} - SMAPE: {smape_value:.2f}%\")\n",
    "\n",
    "    return {\n",
    "        'Y_test_pred': Y_test_pred,\n",
    "        'smape_dic': smape_dic,\n",
    "        'whole_smape': whole_smape,\n",
    "        'best_params': best_params,\n",
    "        'attribute_importance': attribute_importance_dict\n",
    "    }\n",
    "\n",
    "\n",
    "\n",
    "def get_feature_subsets(\n",
    "        feature_space,\n",
    "        subset_size,\n",
    "        include_features: Optional[List[str]] = None,\n",
    "        intersect_size: int = 1,\n",
    "):\n",
    "    subset_size = max(1, subset_size)\n",
    "    subset_size = min(subset_size, len(feature_space))\n",
    "    subset_li = []\n",
    "\n",
    "    for subset in itertools.combinations(feature_space, subset_size):\n",
    "        subset = list(subset)\n",
    "        if include_features is not None:\n",
    "            intersect_size = min(subset_size, intersect_size)\n",
    "        subset_li.append(subset)\n",
    "\n",
    "    return subset_li\n",
    "\n",
    "\n",
    "\n",
    "def run_attribute_permutation_pipeline(df, num_lags, ntest, feature_space, subset_size, intersect_size):\n",
    "    features = get_important_features(df, feature_space, 8, None)\n",
    "    feature_subsets = get_feature_subsets(\n",
    "        features,\n",
    "        subset_size=subset_size,\n",
    "        include_features=None,\n",
    "        intersect_size=intersect_size\n",
    "    )\n",
    "    \n",
    "    param_vals = {\n",
    "        \"feature_subsets\": feature_subsets\n",
    "    }\n",
    "    param_grid = list(PG(param_vals))\n",
    "    num_params = len(param_grid)\n",
    "    \n",
    "    results = {}\n",
    "    pool = mp.Pool(processes=mp.cpu_count())\n",
    "\n",
    "    for idx, params in enumerate(param_grid):\n",
    "        print(f\"training model {idx}/{num_params - 1}: {params}\")\n",
    "        result = pool.apply_async(all_get_submkt_forecast, kwds={\n",
    "            \"df\": df,\n",
    "            \"num_lags\": num_lags,\n",
    "            \"ntest\": ntest,\n",
    "            \"feature_subset\": params['feature_subsets'],\n",
    "            \n",
    "        })\n",
    "        params = str(params)\n",
    "        results[params] = result\n",
    "\n",
    "    pool.close()\n",
    "    pool.join()\n",
    "\n",
    "    df_parts = []\n",
    "\n",
    "    # Iterate over each key-value pair in 'results'\n",
    "    for key, value in results.items():\n",
    "        dic = value.get()\n",
    "        y_pred_df = dic['Y_test_pred']\n",
    "        smape_dic = dic['smape_dic']\n",
    "        best_params = dic['best_params']\n",
    "        attribute_importance = dic['attribute_importance']\n",
    "        data = []\n",
    "\n",
    "        for index, row in y_pred_df.iterrows():\n",
    "            research_submkt_id = row['research_submkt_id']\n",
    "            date = row['date']\n",
    "            real_hedonic_rent_submarket = row['real_hedonic_rent_submarket']\n",
    "            y_pred = row['y_pred']\n",
    "\n",
    "            smape = smape_dic.get(research_submkt_id)\n",
    "\n",
    "            submarket_best_params = best_params\n",
    "            \n",
    "            submarket_attribute_importance = attribute_importance\n",
    "\n",
    "            submarket_info = {\n",
    "                'research_submkt_id': research_submkt_id,\n",
    "                'date': date,\n",
    "                'real_hedonic_rent_submarket': real_hedonic_rent_submarket,\n",
    "                'y_pred': y_pred,\n",
    "                'smape': smape,\n",
    "                'best_hyperparams': submarket_best_params,\n",
    "                'best_attributes': key,\n",
    "                'attribute_importance': submarket_attribute_importance\n",
    "            }\n",
    "\n",
    "            data.append(submarket_info)\n",
    "\n",
    "        df_part = pd.DataFrame(data)\n",
    "\n",
    "        df_parts.append(df_part)\n",
    "\n",
    "    df = pd.concat(df_parts, ignore_index=True)\n",
    "    min_smape_index = df.groupby('research_submkt_id')['smape'].idxmin()\n",
    "    smallest_smape_df = df.loc[min_smape_index, ['research_submkt_id', 'smape', 'best_hyperparams', 'best_attributes','attribute_importance']]\n",
    "\n",
    "\n",
    "    return df, smallest_smape_df\n",
    "\n",
    "\n",
    "def plot_submkt_forecast(df, smallest_smape_df):\n",
    "    for index, row in smallest_smape_df.iterrows():\n",
    "        research_submkt_id = row['research_submkt_id']\n",
    "        group = row['best_attributes']\n",
    "        smape = row['smape']\n",
    "\n",
    "        # Filter 'df' based on 'research_submkt_id' and 'group'-best_attributes\n",
    "        submarket_df = df[(df['research_submkt_id'] == research_submkt_id) & (df['best_attributes'] == group)]\n",
    "\n",
    "        # Extract the test and predicted values\n",
    "        dates = submarket_df['date']\n",
    "        y_test = submarket_df['real_hedonic_rent_submarket']\n",
    "        y_pred = submarket_df['y_pred']\n",
    "\n",
    "        # Plot the test and predicted values\n",
    "        plt.plot(dates, y_test, label='Test')\n",
    "        plt.plot(dates, y_pred, label='Predicted')\n",
    "        #plt.yticks([4.5,4.75,5.0,5.25,5.5,5.75,6.0], ['4.5','4.75','5.0','5.25','5.5','5.75','6.0'])\n",
    "        plt.xlabel('Date')\n",
    "        plt.ylabel('Rent')\n",
    "        plt.title(f'Submarket {research_submkt_id} - Group {group} (SMAPE: {smape:.2f})')  # Include SMAPE in the plot title\n",
    "        plt.legend()\n",
    "\n",
    "        # Add SMAPE as a text annotation\n",
    "        plt.annotate(f'SMAPE: {smape:.2f}', xy=(0.02, 0.92), xycoords='axes fraction')\n",
    "\n",
    "        plt.show()\n"
   ]
  },
  {
   "cell_type": "markdown",
   "id": "72a6b40a",
   "metadata": {},
   "source": [
    "## Phoenix"
   ]
  },
  {
   "cell_type": "markdown",
   "id": "7ecae00a",
   "metadata": {},
   "source": [
    "### ntest = 24, nlags = 12"
   ]
  },
  {
   "cell_type": "code",
   "execution_count": null,
   "id": "4b957963",
   "metadata": {},
   "outputs": [],
   "source": [
    "df_pho = pd.read_csv('/mnt/container1/zqiao_Workspace/link-research/ad-hoc/zq-sandbox/submkt_data/submkt_train_data/pho_submkt_train_test_data.csv')\n",
    "num_lags_pho_12 = 12\n",
    "ntest_pho_24 = 24\n",
    "subset_size_pho_7 = 7\n",
    "intersect_size_pho_1 = 1\n",
    "feature_sel = [\n",
    "    'total_property_sqft',\n",
    "    'gdp_histfc',\n",
    "    'population_histfc',\n",
    "    'nominal_retail_sales_histfc',\n",
    "    'employment_warehousing_histfc',\n",
    "    'unemployment_rate_histfc',\n",
    "    'income_per_capita_histfc',\n",
    "    'real_bricks_and_mortar_retail_sales',\n",
    "    'nominal_proprietors_income_histfc',\n",
    "    'housing_completions_histfc',\n",
    "    'real_ecommerce',\n",
    "    'imports_us',\n",
    "    'spread_3m10y', \n",
    "    'sofr_3m',\n",
    "    'cpi_trailing_12qtr_cagr',\n",
    "    'ecomm^2_pop',\n",
    "    'real_market_level_rent',\n",
    "    'weighted_pop_estimate_cryr',\n",
    "    'weighted_hh_estimate_cryr',\n",
    "    'total_dock_doors',\n",
    "    'total_car_spaces',\n",
    "    'dock_door_ratio',\n",
    "    'number_of_car_spaces_ratio']"
   ]
  },
  {
   "cell_type": "code",
   "execution_count": null,
   "id": "40b897b1",
   "metadata": {},
   "outputs": [],
   "source": [
    "start_time = time.time()\n",
    "\n",
    "df_pho1, smallest_smape_df_pho1 = run_attribute_permutation_pipeline(df_pho, num_lags_pho_12, ntest_pho_24, feature_sel, subset_size_pho_7, intersect_size_pho_1)\n",
    "\n",
    "end_time = time.time()\n",
    "execution_time = end_time - start_time\n",
    "\n",
    "print(f\"Execution time: {execution_time} seconds\")"
   ]
  },
  {
   "cell_type": "code",
   "execution_count": null,
   "id": "a4fed983",
   "metadata": {},
   "outputs": [],
   "source": [
    "df_pho1"
   ]
  },
  {
   "cell_type": "code",
   "execution_count": null,
   "id": "e96b8d27",
   "metadata": {},
   "outputs": [],
   "source": [
    "smallest_smape_df_pho1"
   ]
  },
  {
   "cell_type": "code",
   "execution_count": null,
   "id": "896bc7cb",
   "metadata": {},
   "outputs": [],
   "source": [
    "df_pho1.to_csv('/mnt/container1/zqiao_Workspace/link-research/ad-hoc/zq-sandbox/submkt_forecsat_model/seperate_pipeline_final/xgboost_result_flake/xgboost_fs/pho_24_12_pred.csv')\n",
    "smallest_smape_df_pho1.to_csv('/mnt/container1/zqiao_Workspace/link-research/ad-hoc/zq-sandbox/submkt_forecsat_model/seperate_pipeline_final/xgboost_result_flake/xgboost_fs/pho_24_12_best_model.csv')"
   ]
  },
  {
   "cell_type": "markdown",
   "id": "7431ce07",
   "metadata": {},
   "source": [
    "### ntest=24, nlags = 24"
   ]
  },
  {
   "cell_type": "code",
   "execution_count": null,
   "id": "7e8ab19e",
   "metadata": {},
   "outputs": [],
   "source": [
    "num_lags_pho_24 = 24\n",
    "ntest_pho_24 = 24\n",
    "subset_size_pho_7 = 7\n",
    "intersect_size_pho_1 = 1"
   ]
  },
  {
   "cell_type": "code",
   "execution_count": null,
   "id": "8f6c9c10",
   "metadata": {},
   "outputs": [],
   "source": [
    "start_time = time.time()\n",
    "\n",
    "df_pho2, smallest_smape_df_pho2 = run_attribute_permutation_pipeline(df_pho, num_lags_pho_24, ntest_pho_24, feature_sel, subset_size_pho_7, intersect_size_pho_1)\n",
    "\n",
    "end_time = time.time()\n",
    "execution_time = end_time - start_time\n",
    "\n",
    "print(f\"Execution time: {execution_time} seconds\")"
   ]
  },
  {
   "cell_type": "code",
   "execution_count": null,
   "id": "65dd849b",
   "metadata": {},
   "outputs": [],
   "source": [
    "df_pho2"
   ]
  },
  {
   "cell_type": "code",
   "execution_count": null,
   "id": "d0fc8fcf",
   "metadata": {},
   "outputs": [],
   "source": [
    "smallest_smape_df_pho2"
   ]
  },
  {
   "cell_type": "code",
   "execution_count": null,
   "id": "5f4eb962",
   "metadata": {},
   "outputs": [],
   "source": [
    "df_pho2.to_csv('/mnt/container1/zqiao_Workspace/link-research/ad-hoc/zq-sandbox/submkt_forecsat_model/seperate_pipeline_final/xgboost_result_flake/xgboost_fs/pho_24_24_pred.csv')\n",
    "smallest_smape_df_pho2.to_csv('/mnt/container1/zqiao_Workspace/link-research/ad-hoc/zq-sandbox/submkt_forecsat_model/seperate_pipeline_final/xgboost_result_flake/xgboost_fs/pho_24_24_best_model.csv')"
   ]
  },
  {
   "cell_type": "markdown",
   "id": "c63061d3",
   "metadata": {},
   "source": [
    "### ntest=24, nlags=36"
   ]
  },
  {
   "cell_type": "code",
   "execution_count": null,
   "id": "90762488",
   "metadata": {},
   "outputs": [],
   "source": [
    "num_lags_pho_36 = 36\n",
    "ntest_pho_24 = 24\n",
    "subset_size_pho_7 = 7\n",
    "intersect_size_pho_1 = 1"
   ]
  },
  {
   "cell_type": "code",
   "execution_count": null,
   "id": "7f1a9f3a",
   "metadata": {},
   "outputs": [],
   "source": [
    "start_time = time.time()\n",
    "\n",
    "df_pho3, smallest_smape_df_pho3 = run_attribute_permutation_pipeline(df_pho, num_lags_pho_36, ntest_pho_24, feature_sel, subset_size_pho_7, intersect_size_pho_1)\n",
    "\n",
    "end_time = time.time()\n",
    "execution_time = end_time - start_time\n",
    "\n",
    "print(f\"Execution time: {execution_time} seconds\")"
   ]
  },
  {
   "cell_type": "code",
   "execution_count": null,
   "id": "e6e29134",
   "metadata": {},
   "outputs": [],
   "source": [
    "df_pho3"
   ]
  },
  {
   "cell_type": "code",
   "execution_count": null,
   "id": "c76d0ac2",
   "metadata": {},
   "outputs": [],
   "source": [
    "smallest_smape_df_pho3"
   ]
  },
  {
   "cell_type": "code",
   "execution_count": null,
   "id": "a05795e2",
   "metadata": {},
   "outputs": [],
   "source": [
    "df_pho3.to_csv('/mnt/container1/zqiao_Workspace/link-research/ad-hoc/zq-sandbox/submkt_forecsat_model/seperate_pipeline_final/xgboost_result_flake/xgboost_fs/pho_24_36_pred.csv')\n",
    "smallest_smape_df_pho3.to_csv('/mnt/container1/zqiao_Workspace/link-research/ad-hoc/zq-sandbox/submkt_forecsat_model/seperate_pipeline_final/xgboost_result_flake/xgboost_fs/pho_24_36_best_model.csv')"
   ]
  },
  {
   "cell_type": "markdown",
   "id": "5511e07e",
   "metadata": {},
   "source": [
    "## Dallas"
   ]
  },
  {
   "cell_type": "markdown",
   "id": "261d1b35",
   "metadata": {},
   "source": [
    "### ntest=12, nlags=12"
   ]
  },
  {
   "cell_type": "code",
   "execution_count": null,
   "id": "ad150246",
   "metadata": {},
   "outputs": [],
   "source": [
    "df_dal = pd.read_csv('/mnt/container1/zqiao_Workspace/link-research/ad-hoc/zq-sandbox/submkt_data/submkt_train_data/dal_submkt_train_test_data.csv')\n",
    "num_lags_dal_12 = 12\n",
    "ntest_dal_12 = 12\n",
    "subset_size_dal_7 = 7\n",
    "intersect_size_dal_1 = 1\n",
    "feature_sel = [\n",
    "    'total_property_sqft',\n",
    "    'gdp_histfc',\n",
    "    'population_histfc',\n",
    "    'nominal_retail_sales_histfc',\n",
    "    'employment_warehousing_histfc',\n",
    "    'unemployment_rate_histfc',\n",
    "    'income_per_capita_histfc',\n",
    "    'real_bricks_and_mortar_retail_sales',\n",
    "    'nominal_proprietors_income_histfc',\n",
    "    'housing_completions_histfc',\n",
    "    'real_ecommerce',\n",
    "    'imports_us',\n",
    "    'spread_3m10y', \n",
    "    'sofr_3m',\n",
    "    'cpi_trailing_12qtr_cagr',\n",
    "    'ecomm^2_pop',\n",
    "    'real_market_level_rent',\n",
    "    'weighted_pop_estimate_cryr',\n",
    "    'weighted_hh_estimate_cryr',\n",
    "    'total_dock_doors',\n",
    "    'total_car_spaces',\n",
    "    'dock_door_ratio',\n",
    "    'number_of_car_spaces_ratio']"
   ]
  },
  {
   "cell_type": "code",
   "execution_count": null,
   "id": "755bd466",
   "metadata": {},
   "outputs": [],
   "source": [
    "start_time = time.time()\n",
    "\n",
    "df_dal1, smallest_smape_df_dal1 = run_attribute_permutation_pipeline(df_dal, num_lags_dal_12, ntest_dal_12, feature_sel, subset_size_dal_7, intersect_size_dal_1)\n",
    "\n",
    "end_time = time.time()\n",
    "execution_time = end_time - start_time\n",
    "\n",
    "print(f\"Execution time: {execution_time} seconds\")"
   ]
  },
  {
   "cell_type": "code",
   "execution_count": null,
   "id": "93993ad5",
   "metadata": {},
   "outputs": [],
   "source": [
    "df_dal1"
   ]
  },
  {
   "cell_type": "code",
   "execution_count": null,
   "id": "d6b11487",
   "metadata": {},
   "outputs": [],
   "source": [
    "smallest_smape_df_dal1"
   ]
  },
  {
   "cell_type": "code",
   "execution_count": null,
   "id": "fc753212",
   "metadata": {},
   "outputs": [],
   "source": [
    "df_dal1.to_csv('/mnt/container1/zqiao_Workspace/link-research/ad-hoc/zq-sandbox/submkt_forecsat_model/seperate_pipeline_final/xgboost_result_flake/xgboost_fs/dal_12_12_pred.csv')\n",
    "smallest_smape_df_dal1.to_csv('/mnt/container1/zqiao_Workspace/link-research/ad-hoc/zq-sandbox/submkt_forecsat_model/seperate_pipeline_final/xgboost_result_flake/xgboost_fs/dal_12_12_best_model.csv')"
   ]
  },
  {
   "cell_type": "markdown",
   "id": "8f266143",
   "metadata": {},
   "source": [
    "### ntest=12, nlags=24"
   ]
  },
  {
   "cell_type": "code",
   "execution_count": null,
   "id": "9ef41bff",
   "metadata": {},
   "outputs": [],
   "source": [
    "num_lags_dal_24 = 24\n",
    "ntest_dal_12 = 12\n",
    "subset_size_dal_7 = 7\n",
    "intersect_size_dal_1 = 1"
   ]
  },
  {
   "cell_type": "code",
   "execution_count": null,
   "id": "02324ba9",
   "metadata": {},
   "outputs": [],
   "source": [
    "start_time = time.time()\n",
    "\n",
    "df_dal2, smallest_smape_df_dal2 = run_attribute_permutation_pipeline(df_dal, num_lags_dal_24, ntest_dal_12, feature_sel, subset_size_dal_7, intersect_size_dal_1)\n",
    "\n",
    "end_time = time.time()\n",
    "execution_time = end_time - start_time\n",
    "\n",
    "print(f\"Execution time: {execution_time} seconds\")"
   ]
  },
  {
   "cell_type": "code",
   "execution_count": null,
   "id": "918d896c",
   "metadata": {},
   "outputs": [],
   "source": [
    "df_dal2"
   ]
  },
  {
   "cell_type": "code",
   "execution_count": null,
   "id": "86359483",
   "metadata": {},
   "outputs": [],
   "source": [
    "smallest_smape_df_dal2"
   ]
  },
  {
   "cell_type": "code",
   "execution_count": null,
   "id": "3575622c",
   "metadata": {},
   "outputs": [],
   "source": [
    "df_dal2.to_csv('/mnt/container1/zqiao_Workspace/link-research/ad-hoc/zq-sandbox/submkt_forecsat_model/seperate_pipeline_final/xgboost_result_flake/xgboost_fs/dal_12_24_pred.csv')\n",
    "smallest_smape_df_dal2.to_csv('/mnt/container1/zqiao_Workspace/link-research/ad-hoc/zq-sandbox/submkt_forecsat_model/seperate_pipeline_final/xgboost_result_flake/xgboost_fs/dal_12_24_best_model.csv')"
   ]
  },
  {
   "cell_type": "markdown",
   "id": "094a84f2",
   "metadata": {},
   "source": [
    "### ntest=12, nlags=36"
   ]
  },
  {
   "cell_type": "code",
   "execution_count": null,
   "id": "63c0bf4a",
   "metadata": {},
   "outputs": [],
   "source": [
    "num_lags_dal_36 = 36\n",
    "ntest_dal_12 = 12\n",
    "subset_size_dal_7 = 7\n",
    "intersect_size_dal_1 = 1"
   ]
  },
  {
   "cell_type": "code",
   "execution_count": null,
   "id": "8143eae3",
   "metadata": {},
   "outputs": [],
   "source": [
    "start_time = time.time()\n",
    "\n",
    "df_dal3, smallest_smape_df_dal3 = run_attribute_permutation_pipeline(df_dal, num_lags_dal_36, ntest_dal_12, feature_sel, subset_size_dal_7, intersect_size_dal_1)\n",
    "\n",
    "end_time = time.time()\n",
    "execution_time = end_time - start_time\n",
    "\n",
    "print(f\"Execution time: {execution_time} seconds\")"
   ]
  },
  {
   "cell_type": "code",
   "execution_count": null,
   "id": "f662f292",
   "metadata": {},
   "outputs": [],
   "source": [
    "df_dal3"
   ]
  },
  {
   "cell_type": "code",
   "execution_count": null,
   "id": "5a4eafbe",
   "metadata": {},
   "outputs": [],
   "source": [
    "smallest_smape_df_dal3"
   ]
  },
  {
   "cell_type": "code",
   "execution_count": null,
   "id": "6f5af602",
   "metadata": {},
   "outputs": [],
   "source": [
    "df_dal3.to_csv('/mnt/container1/zqiao_Workspace/link-research/ad-hoc/zq-sandbox/submkt_forecsat_model/seperate_pipeline_final/xgboost_result_flake/xgboost_fs/dal_12_36_pred.csv')\n",
    "smallest_smape_df_dal3.to_csv('/mnt/container1/zqiao_Workspace/link-research/ad-hoc/zq-sandbox/submkt_forecsat_model/seperate_pipeline_final/xgboost_result_flake/xgboost_fs/dal_12_36_best_model.csv')"
   ]
  },
  {
   "cell_type": "markdown",
   "id": "b1e7e288",
   "metadata": {},
   "source": [
    "### ntest=24, nlags=12"
   ]
  },
  {
   "cell_type": "code",
   "execution_count": null,
   "id": "a4e884b0",
   "metadata": {},
   "outputs": [],
   "source": [
    "num_lags_dal_12 = 12\n",
    "ntest_dal_24 = 24\n",
    "subset_size_dal_7 = 7\n",
    "intersect_size_dal_1 = 1"
   ]
  },
  {
   "cell_type": "code",
   "execution_count": null,
   "id": "f472dcdf",
   "metadata": {},
   "outputs": [],
   "source": [
    "start_time = time.time()\n",
    "\n",
    "df_dal4, smallest_smape_df_dal4 = run_attribute_permutation_pipeline(df_dal, num_lags_dal_12, ntest_dal_24, feature_sel, subset_size_dal_7, intersect_size_dal_1)\n",
    "\n",
    "end_time = time.time()\n",
    "execution_time = end_time - start_time\n",
    "\n",
    "print(f\"Execution time: {execution_time} seconds\")"
   ]
  },
  {
   "cell_type": "code",
   "execution_count": null,
   "id": "f05fce08",
   "metadata": {},
   "outputs": [],
   "source": [
    "df_dal4"
   ]
  },
  {
   "cell_type": "code",
   "execution_count": null,
   "id": "7fd17320",
   "metadata": {},
   "outputs": [],
   "source": [
    "smallest_smape_df_dal4"
   ]
  },
  {
   "cell_type": "code",
   "execution_count": null,
   "id": "7492f245",
   "metadata": {},
   "outputs": [],
   "source": [
    "df_dal4.to_csv('/mnt/container1/zqiao_Workspace/link-research/ad-hoc/zq-sandbox/submkt_forecsat_model/seperate_pipeline_final/xgboost_result_flake/xgboost_fs/dal_24_12_pred.csv')\n",
    "smallest_smape_df_dal4.to_csv('/mnt/container1/zqiao_Workspace/link-research/ad-hoc/zq-sandbox/submkt_forecsat_model/seperate_pipeline_final/xgboost_result_flake/xgboost_fs/dal_24_12_best_model.csv')"
   ]
  },
  {
   "cell_type": "markdown",
   "id": "0b4e03c4",
   "metadata": {},
   "source": [
    "### ntest=24, nlags=24"
   ]
  },
  {
   "cell_type": "code",
   "execution_count": null,
   "id": "45554043",
   "metadata": {},
   "outputs": [],
   "source": [
    "num_lags_dal_24 = 24\n",
    "ntest_dal_24 = 24\n",
    "subset_size_dal_7 = 7\n",
    "intersect_size_dal_1 = 1"
   ]
  },
  {
   "cell_type": "code",
   "execution_count": null,
   "id": "a4ceaaab",
   "metadata": {},
   "outputs": [],
   "source": [
    "start_time = time.time()\n",
    "\n",
    "df_dal5, smallest_smape_df_dal5 = run_attribute_permutation_pipeline(df_dal, num_lags_dal_24, ntest_dal_24, feature_sel, subset_size_dal_7, intersect_size_dal_1)\n",
    "\n",
    "end_time = time.time()\n",
    "execution_time = end_time - start_time\n",
    "\n",
    "print(f\"Execution time: {execution_time} seconds\")"
   ]
  },
  {
   "cell_type": "code",
   "execution_count": null,
   "id": "08ae4105",
   "metadata": {},
   "outputs": [],
   "source": [
    "df_dal5"
   ]
  },
  {
   "cell_type": "code",
   "execution_count": null,
   "id": "2636023f",
   "metadata": {},
   "outputs": [],
   "source": [
    "smallest_smape_df_dal5"
   ]
  },
  {
   "cell_type": "code",
   "execution_count": null,
   "id": "ffcb22c3",
   "metadata": {},
   "outputs": [],
   "source": [
    "df_dal5.to_csv('/mnt/container1/zqiao_Workspace/link-research/ad-hoc/zq-sandbox/submkt_forecsat_model/seperate_pipeline_final/xgboost_result_flake/xgboost_fs/dal_24_24_pred.csv')\n",
    "smallest_smape_df_dal5.to_csv('/mnt/container1/zqiao_Workspace/link-research/ad-hoc/zq-sandbox/submkt_forecsat_model/seperate_pipeline_final/xgboost_result_flake/xgboost_fs/dal_24_24_best_model.csv')"
   ]
  },
  {
   "cell_type": "markdown",
   "id": "0ffc972b",
   "metadata": {},
   "source": [
    "### ntest=24, nlags=36"
   ]
  },
  {
   "cell_type": "code",
   "execution_count": null,
   "id": "176eeaf6",
   "metadata": {},
   "outputs": [],
   "source": [
    "num_lags_dal_36 = 36\n",
    "ntest_dal_24 = 24\n",
    "subset_size_dal_7 = 7\n",
    "intersect_size_dal_1 = 1"
   ]
  },
  {
   "cell_type": "code",
   "execution_count": null,
   "id": "9bc42885",
   "metadata": {},
   "outputs": [],
   "source": [
    "start_time = time.time()\n",
    "\n",
    "df_dal6, smallest_smape_df_dal6 = run_attribute_permutation_pipeline(df_dal, num_lags_dal_36, ntest_dal_24, feature_sel, subset_size_dal_7, intersect_size_dal_1)\n",
    "\n",
    "end_time = time.time()\n",
    "execution_time = end_time - start_time\n",
    "\n",
    "print(f\"Execution time: {execution_time} seconds\")"
   ]
  },
  {
   "cell_type": "code",
   "execution_count": null,
   "id": "5e5964a1",
   "metadata": {},
   "outputs": [],
   "source": [
    "df_dal6"
   ]
  },
  {
   "cell_type": "code",
   "execution_count": null,
   "id": "9b423db0",
   "metadata": {},
   "outputs": [],
   "source": [
    "smallest_smape_df_dal6"
   ]
  },
  {
   "cell_type": "code",
   "execution_count": null,
   "id": "7d4e7639",
   "metadata": {},
   "outputs": [],
   "source": [
    "df_dal6.to_csv('/mnt/container1/zqiao_Workspace/link-research/ad-hoc/zq-sandbox/submkt_forecsat_model/seperate_pipeline_final/xgboost_result_flake/xgboost_fs/dal_24_36_pred.csv')\n",
    "smallest_smape_df_dal6.to_csv('/mnt/container1/zqiao_Workspace/link-research/ad-hoc/zq-sandbox/submkt_forecsat_model/seperate_pipeline_final/xgboost_result_flake/xgboost_fs/dal_24_36_best_model.csv')"
   ]
  },
  {
   "cell_type": "code",
   "execution_count": null,
   "id": "8a155426",
   "metadata": {},
   "outputs": [],
   "source": []
  },
  {
   "cell_type": "code",
   "execution_count": null,
   "id": "197cf4fc",
   "metadata": {},
   "outputs": [],
   "source": []
  }
 ],
 "metadata": {
  "kernelspec": {
   "display_name": "Python 3 (ipykernel)",
   "language": "python",
   "name": "python3"
  },
  "language_info": {
   "codemirror_mode": {
    "name": "ipython",
    "version": 3
   },
   "file_extension": ".py",
   "mimetype": "text/x-python",
   "name": "python",
   "nbconvert_exporter": "python",
   "pygments_lexer": "ipython3",
   "version": "3.9.12"
  }
 },
 "nbformat": 4,
 "nbformat_minor": 5
}
