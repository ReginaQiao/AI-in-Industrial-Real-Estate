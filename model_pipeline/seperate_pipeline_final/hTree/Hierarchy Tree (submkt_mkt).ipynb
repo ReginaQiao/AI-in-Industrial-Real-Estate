{
 "cells": [
  {
   "cell_type": "code",
   "execution_count": null,
   "metadata": {
    "id": "2w_WnsxJ7fXJ"
   },
   "outputs": [],
   "source": [
    "import os\n",
    "from pprint import pprint\n",
    "import importlib\n",
    "\n",
    "import pandas as pd\n",
    "import numpy as np\n",
    "import matplotlib.pyplot as plt\n",
    "\n",
    "from sklearn.pipeline import Pipeline\n",
    "from hts.hierarchy import HierarchyTree\n",
    "\n",
    "%matplotlib inline\n",
    "%load_ext autoreload\n",
    "%autoreload 2\n",
    "\n",
    "\n",
    "%matplotlib inline"
   ]
  },
  {
   "cell_type": "markdown",
   "metadata": {
    "id": "PaT6Ig3Huvye"
   },
   "source": [
    "### pho_data"
   ]
  },
  {
   "cell_type": "code",
   "execution_count": null,
   "metadata": {
    "id": "9eXbjidW-0gk"
   },
   "outputs": [],
   "source": [
    "pho = pd.read_csv('/home/zqiao/data_flake/pho_train_data_new.csv', index_col=0)"
   ]
  },
  {
   "cell_type": "code",
   "execution_count": null,
   "metadata": {
    "colab": {
     "base_uri": "https://localhost:8080/"
    },
    "id": "RMJpaOeW-_zo",
    "outputId": "a07c9b97-223c-4b21-e4e4-23c80952bc73"
   },
   "outputs": [],
   "source": [
    "pho.info()"
   ]
  },
  {
   "cell_type": "code",
   "execution_count": null,
   "metadata": {
    "id": "a87LrMK-VHhB"
   },
   "outputs": [],
   "source": [
    "pho['date'] = pd.to_datetime(pho['date'])"
   ]
  },
  {
   "cell_type": "code",
   "execution_count": null,
   "metadata": {
    "colab": {
     "base_uri": "https://localhost:8080/"
    },
    "id": "qdFXRFkJH5ms",
    "outputId": "ea04c2a5-b63d-43ce-a81d-42d1f7c1b0cb"
   },
   "outputs": [],
   "source": [
    "pho.columns"
   ]
  },
  {
   "cell_type": "code",
   "execution_count": null,
   "metadata": {
    "id": "mtengC0__Gfv"
   },
   "outputs": [],
   "source": [
    "# Transform data in the format required by scikit-hts\n",
    "# Level                   Node Key\n",
    "#   1       Phoenix                    Dallas-Fort Worth\n",
    "#   2    PHO061...(28)               DAL031 ...()"
   ]
  },
  {
   "cell_type": "code",
   "execution_count": null,
   "metadata": {
    "id": "CMMGKr5k7kPI"
   },
   "outputs": [],
   "source": [
    "pho_rent = pho[['date', 'research_market', 'research_submkt_name', 'research_submkt_id', 'real_hedonic_rent_submarket', 'real_market_level_rent',\n",
    "                'submkt_mkt_sf_ratio_link', 'submkt_mkt_sf_ratio_cbre']]"
   ]
  },
  {
   "cell_type": "code",
   "execution_count": null,
   "metadata": {
    "colab": {
     "base_uri": "https://localhost:8080/",
     "height": 1000
    },
    "id": "saAxZJhVIWP_",
    "outputId": "ea040d6c-8474-405a-c65b-1aa2fbc19469"
   },
   "outputs": [],
   "source": [
    "pho_rent.head(20)"
   ]
  },
  {
   "cell_type": "code",
   "execution_count": null,
   "metadata": {
    "colab": {
     "base_uri": "https://localhost:8080/"
    },
    "id": "ysLy41mZIZPP",
    "outputId": "e7857fc7-a483-4474-e9c1-9fe93bce256f"
   },
   "outputs": [],
   "source": [
    "pho_rent['submkt_id'] = (pho_rent['research_market'] + '_' + pho_rent['research_submkt_id'])"
   ]
  },
  {
   "cell_type": "code",
   "execution_count": null,
   "metadata": {
    "colab": {
     "base_uri": "https://localhost:8080/",
     "height": 357
    },
    "id": "t1OiF1vB7kRr",
    "outputId": "beb4dbc6-93ff-44a5-af3b-6a36ce02bc35"
   },
   "outputs": [],
   "source": [
    "pho_rent.head()"
   ]
  },
  {
   "cell_type": "code",
   "execution_count": null,
   "metadata": {
    "id": "_xTpIEvNKeXt"
   },
   "outputs": [],
   "source": [
    "target_var = ['real_hedonic_rent_submarket']"
   ]
  },
  {
   "cell_type": "code",
   "execution_count": null,
   "metadata": {
    "id": "aG_HCPFoKD-M"
   },
   "outputs": [],
   "source": [
    "pivot_pho = pho_rent.pivot_table(index='date', columns='submkt_id', values=target_var)"
   ]
  },
  {
   "cell_type": "code",
   "execution_count": null,
   "metadata": {},
   "outputs": [],
   "source": [
    "pivot_pho.head()"
   ]
  },
  {
   "cell_type": "code",
   "execution_count": null,
   "metadata": {},
   "outputs": [],
   "source": [
    "pivot_pho.shape"
   ]
  },
  {
   "cell_type": "code",
   "execution_count": null,
   "metadata": {},
   "outputs": [],
   "source": []
  },
  {
   "cell_type": "code",
   "execution_count": null,
   "metadata": {
    "id": "QgwFOwQ1LIvf"
   },
   "outputs": [],
   "source": [
    "df_mkt_rent = pho_rent.sort_values(['research_submkt_id','date'])[['date', 'real_market_level_rent']].head(len(pho_rent['date'].unique()))"
   ]
  },
  {
   "cell_type": "code",
   "execution_count": null,
   "metadata": {
    "colab": {
     "base_uri": "https://localhost:8080/",
     "height": 423
    },
    "id": "kDqCd7p9MB6Y",
    "outputId": "03d1ebda-65c6-44f2-cdff-dc7376bf5713"
   },
   "outputs": [],
   "source": [
    "df_mkt_rent"
   ]
  },
  {
   "cell_type": "code",
   "execution_count": null,
   "metadata": {},
   "outputs": [],
   "source": [
    "pivot_pho = pivot_pho.merge(df_mkt_rent, left_on='date', right_on='date')"
   ]
  },
  {
   "cell_type": "code",
   "execution_count": null,
   "metadata": {},
   "outputs": [],
   "source": []
  },
  {
   "cell_type": "code",
   "execution_count": null,
   "metadata": {},
   "outputs": [],
   "source": []
  },
  {
   "cell_type": "code",
   "execution_count": null,
   "metadata": {
    "id": "PFcmuDoFlzOx"
   },
   "outputs": [],
   "source": [
    "pivot_pho.rename(columns=dict(zip(pivot_pho.columns, pho_rent['submkt_id'].unique().tolist())), inplace=True)"
   ]
  },
  {
   "cell_type": "code",
   "execution_count": null,
   "metadata": {},
   "outputs": [],
   "source": [
    "pivot_pho.head()"
   ]
  },
  {
   "cell_type": "code",
   "execution_count": null,
   "metadata": {
    "id": "6T-V8-FdmB2-"
   },
   "outputs": [],
   "source": [
    "desired_columns = ['Phoenix_PHO037', 'Phoenix_PHO038', 'Phoenix_PHO039', 'Phoenix_PHO040',\n",
    "                   'Phoenix_PHO041', 'Phoenix_PHO042', 'Phoenix_PHO043', 'Phoenix_PHO044',\n",
    "                   'Phoenix_PHO045', 'Phoenix_PHO046', 'Phoenix_PHO047', 'Phoenix_PHO048',\n",
    "                   'Phoenix_PHO049', 'Phoenix_PHO050', 'Phoenix_PHO051', 'Phoenix_PHO053',\n",
    "                   'Phoenix_PHO054', 'Phoenix_PHO055', 'Phoenix_PHO056', 'Phoenix_PHO057',\n",
    "                   'Phoenix_PHO058', 'Phoenix_PHO059', 'Phoenix_PHO060', 'Phoenix_PHO061',\n",
    "                   'Phoenix_PHO062', 'Phoenix_PHO063', 'Phoenix_PHO064', 'Phoenix_PHO065']\n",
    "\n",
    "# Reorder the columns\n",
    "pivot_pho = pivot_pho.reindex(columns=desired_columns)"
   ]
  },
  {
   "cell_type": "code",
   "execution_count": null,
   "metadata": {},
   "outputs": [],
   "source": []
  },
  {
   "cell_type": "code",
   "execution_count": null,
   "metadata": {},
   "outputs": [],
   "source": [
    "pivot_pho.head()"
   ]
  },
  {
   "cell_type": "code",
   "execution_count": null,
   "metadata": {},
   "outputs": [],
   "source": [
    "pivot_pho.info()"
   ]
  },
  {
   "cell_type": "code",
   "execution_count": null,
   "metadata": {},
   "outputs": [],
   "source": []
  },
  {
   "cell_type": "code",
   "execution_count": null,
   "metadata": {},
   "outputs": [],
   "source": []
  },
  {
   "cell_type": "code",
   "execution_count": null,
   "metadata": {},
   "outputs": [],
   "source": [
    "pivot_pho.merge(df_mkt_rent, how='left', on='date')"
   ]
  },
  {
   "cell_type": "code",
   "execution_count": null,
   "metadata": {},
   "outputs": [],
   "source": [
    "pivot_pho.head()"
   ]
  },
  {
   "cell_type": "code",
   "execution_count": null,
   "metadata": {
    "id": "8Ab0TE0cKtLg"
   },
   "outputs": [],
   "source": [
    "pivot_pho.to_csv('pivot_pho_ol_rent.csv')"
   ]
  },
  {
   "cell_type": "code",
   "execution_count": null,
   "metadata": {
    "colab": {
     "base_uri": "https://localhost:8080/"
    },
    "id": "_xMoOZhNWYAc",
    "outputId": "1305e437-07fd-4fe6-bf6d-5f8bd8a1e0f1"
   },
   "outputs": [],
   "source": [
    "pivot_pho.columns.tolist()"
   ]
  },
  {
   "cell_type": "code",
   "execution_count": null,
   "metadata": {
    "colab": {
     "base_uri": "https://localhost:8080/",
     "height": 418
    },
    "id": "jlPoFYVxPj1H",
    "outputId": "60574037-b7a4-49bc-ff72-a20906a856a2"
   },
   "outputs": [],
   "source": [
    "pivot_pho.head()"
   ]
  },
  {
   "cell_type": "markdown",
   "metadata": {
    "id": "VFX5_G_kvA76"
   },
   "source": [
    "### varima test"
   ]
  },
  {
   "cell_type": "code",
   "execution_count": null,
   "metadata": {
    "id": "x6N5ZYdIbe2S"
   },
   "outputs": [],
   "source": [
    "from statsmodels.tsa.statespace.varmax import VARMAX\n",
    "from sklearn.model_selection import train_test_split\n",
    "from sklearn.metrics import mean_squared_error\n"
   ]
  },
  {
   "cell_type": "code",
   "execution_count": null,
   "metadata": {
    "id": "h92vXCZNTTXU"
   },
   "outputs": [],
   "source": [
    "pivot_pho['date'] = pd.to_datetime(pivot_pho['date'])\n",
    "pivot_pho.set_index('date', inplace=True)\n",
    "\n",
    "# Separate the features and target variables\n",
    "features = pivot_pho.drop('real_market_level_rent', axis=1)\n",
    "target = pivot_pho['real_market_level_rent']\n",
    "\n",
    "# Split the data into train and test sets\n",
    "X_train, X_test, y_train, y_test = train_test_split(features, target, test_size=0.2, random_state=42)\n"
   ]
  },
  {
   "cell_type": "code",
   "execution_count": null,
   "metadata": {
    "colab": {
     "base_uri": "https://localhost:8080/",
     "height": 435
    },
    "id": "Y5GiWa85Tun1",
    "outputId": "da788c6e-24bb-49d9-b522-bfcb03e7bda9"
   },
   "outputs": [],
   "source": [
    "pivot_pho.head()"
   ]
  },
  {
   "cell_type": "code",
   "execution_count": null,
   "metadata": {
    "colab": {
     "base_uri": "https://localhost:8080/"
    },
    "id": "_8929j31esle",
    "outputId": "960411f6-a4f9-477f-9c25-653e0a105af7"
   },
   "outputs": [],
   "source": [
    "import statsmodels.api as sm\n",
    "\n",
    "\n",
    "model = sm.tsa.SARIMAX(pivot_pho.real_market_level_rent, order=(4, 0, 0), trend='c')\n",
    "\n",
    "results = model.fit()\n",
    "print(results.summary())\n"
   ]
  },
  {
   "cell_type": "code",
   "execution_count": null,
   "metadata": {
    "colab": {
     "base_uri": "https://localhost:8080/"
    },
    "id": "T4Cyyy1hfyW-",
    "outputId": "c04c1e92-d312-4bed-e504-4709b50e8123"
   },
   "outputs": [],
   "source": [
    "print(results.params)"
   ]
  },
  {
   "cell_type": "code",
   "execution_count": null,
   "metadata": {
    "colab": {
     "base_uri": "https://localhost:8080/",
     "height": 927
    },
    "id": "p7WCyu6-f46w",
    "outputId": "6d769803-0e7e-4983-ac88-790489f0e4fd"
   },
   "outputs": [],
   "source": [
    "# - Create diagnostic figures based on standardized residuals:\n",
    "#   (1) time series graph\n",
    "#   (2) histogram\n",
    "#   (3) Q-Q plot\n",
    "#   (4) correlogram\n",
    "results.plot_diagnostics(0)"
   ]
  },
  {
   "cell_type": "code",
   "execution_count": null,
   "metadata": {
    "colab": {
     "base_uri": "https://localhost:8080/"
    },
    "id": "EDsDBdnaf_Ca",
    "outputId": "724577fc-9f36-45e4-bc2c-546c23a38318"
   },
   "outputs": [],
   "source": [
    "# Forecast the next 4 values\n",
    "results.forecast(12)"
   ]
  },
  {
   "cell_type": "code",
   "execution_count": null,
   "metadata": {
    "id": "yK63xAf4f7Td"
   },
   "outputs": [],
   "source": []
  },
  {
   "cell_type": "markdown",
   "metadata": {
    "id": "7KDHdA7qvQpM"
   },
   "source": [
    "### Hierarchy Tree"
   ]
  },
  {
   "cell_type": "code",
   "execution_count": null,
   "metadata": {
    "id": "mXoQXpO8huI8"
   },
   "outputs": [],
   "source": [
    "total = {'total': ['total']}\n",
    "submkt = pho_rent.submkt_id.unique()\n",
    "hier = {'total': list(submkt)}"
   ]
  },
  {
   "cell_type": "code",
   "execution_count": null,
   "metadata": {
    "id": "k-XZI8n3nUSx"
   },
   "outputs": [],
   "source": [
    "tree = HierarchyTree.from_nodes(hier, pivot_pho, root='total')"
   ]
  },
  {
   "cell_type": "code",
   "execution_count": null,
   "metadata": {
    "colab": {
     "base_uri": "https://localhost:8080/"
    },
    "id": "ukohSMD2tFYB",
    "outputId": "5e95663d-69e2-4d15-aa60-0c25d6fd51cc"
   },
   "outputs": [],
   "source": [
    "print(tree)"
   ]
  },
  {
   "cell_type": "markdown",
   "metadata": {
    "id": "e628KbhattGs"
   },
   "source": [
    "### pip hts"
   ]
  },
  {
   "cell_type": "code",
   "execution_count": null,
   "metadata": {
    "colab": {
     "base_uri": "https://localhost:8080/"
    },
    "id": "ThqVZDzztAqc",
    "outputId": "9f47161f-e40d-41b6-d832-a76268dc0005"
   },
   "outputs": [],
   "source": [
    "pip install scikit-hts"
   ]
  },
  {
   "cell_type": "code",
   "execution_count": null,
   "metadata": {
    "colab": {
     "base_uri": "https://localhost:8080/"
    },
    "id": "a5XNlCMXsIRO",
    "outputId": "0f9e271e-56c3-45a8-ecb6-093ce78377dc"
   },
   "outputs": [],
   "source": [
    "pip install scikit-hts[geo]"
   ]
  },
  {
   "cell_type": "code",
   "execution_count": null,
   "metadata": {
    "colab": {
     "base_uri": "https://localhost:8080/"
    },
    "id": "SugZfjPtqQ2x",
    "outputId": "b7142578-a02c-42e7-a20a-2ee1601b3974"
   },
   "outputs": [],
   "source": [
    "pip install scikit-hts[prophet]"
   ]
  },
  {
   "cell_type": "code",
   "execution_count": null,
   "metadata": {
    "colab": {
     "base_uri": "https://localhost:8080/"
    },
    "id": "ijCvaFC8qR_7",
    "outputId": "cbb44308-9aa1-43ef-c392-2486b80d91f8"
   },
   "outputs": [],
   "source": [
    "pip install scikit-hts[auto-arima]"
   ]
  },
  {
   "cell_type": "code",
   "execution_count": null,
   "metadata": {
    "colab": {
     "base_uri": "https://localhost:8080/"
    },
    "id": "Pi0tRpLpqumr",
    "outputId": "01e75e5a-9df2-4db5-a4db-c8f6335ced1b"
   },
   "outputs": [],
   "source": [
    "pip install scikit-hts[distributed]"
   ]
  },
  {
   "cell_type": "code",
   "execution_count": null,
   "metadata": {
    "colab": {
     "base_uri": "https://localhost:8080/"
    },
    "id": "u5vmYfDct-ts",
    "outputId": "bbc036c6-4288-4ef2-f2a0-08262702b551"
   },
   "outputs": [],
   "source": [
    "pip install scikit-hts[all]"
   ]
  },
  {
   "cell_type": "markdown",
   "metadata": {
    "id": "H1JtEdHTuC3o"
   },
   "source": [
    "### model"
   ]
  },
  {
   "cell_type": "code",
   "execution_count": null,
   "metadata": {
    "colab": {
     "base_uri": "https://localhost:8080/"
    },
    "id": "lQwK3VlizoKw",
    "outputId": "cd3f16fa-8f96-46d2-a87e-f78e3b97d418"
   },
   "outputs": [],
   "source": [
    "pip install pmdarima"
   ]
  },
  {
   "cell_type": "code",
   "execution_count": null,
   "metadata": {},
   "outputs": [],
   "source": [
    "pip install --upgrade pip"
   ]
  },
  {
   "cell_type": "code",
   "execution_count": null,
   "metadata": {},
   "outputs": [],
   "source": [
    "pip install scikit-hts"
   ]
  },
  {
   "cell_type": "code",
   "execution_count": null,
   "metadata": {},
   "outputs": [],
   "source": [
    "pip install prophet"
   ]
  },
  {
   "cell_type": "code",
   "execution_count": null,
   "metadata": {
    "colab": {
     "base_uri": "https://localhost:8080/"
    },
    "id": "QQ8v8Kws0D6C",
    "outputId": "0ae37fce-62d9-48b0-ee5a-2c89869fde04",
    "scrolled": true
   },
   "outputs": [],
   "source": [
    "from hts import HTSRegressor\n",
    "from pmdarima import auto_arima"
   ]
  },
  {
   "cell_type": "code",
   "execution_count": null,
   "metadata": {},
   "outputs": [],
   "source": [
    "pivot_pho.tail()"
   ]
  },
  {
   "cell_type": "code",
   "execution_count": null,
   "metadata": {},
   "outputs": [],
   "source": [
    "train = pivot_pho.loc['2003-09-01':'2022-03-01']\n",
    "test = pivot_pho.loc['2022-04-01':'2023-07-01']"
   ]
  },
  {
   "cell_type": "code",
   "execution_count": null,
   "metadata": {
    "colab": {
     "base_uri": "https://localhost:8080/",
     "height": 190
    },
    "id": "lwYMPxszjjEo",
    "outputId": "442295c7-2396-43e4-b5c7-eecaa72791af"
   },
   "outputs": [],
   "source": [
    "clf = HTSRegressor(model='auto_arima')  # Choose a valid model here\n",
    "model = clf.fit(train, hier)"
   ]
  },
  {
   "cell_type": "code",
   "execution_count": null,
   "metadata": {
    "id": "lpFW9MODz45G"
   },
   "outputs": [],
   "source": [
    "pred = model.predict(steps_ahead=len(test))"
   ]
  },
  {
   "cell_type": "code",
   "execution_count": null,
   "metadata": {},
   "outputs": [],
   "source": [
    "pred"
   ]
  },
  {
   "cell_type": "code",
   "execution_count": null,
   "metadata": {
    "id": "YZqjIJqOirOd"
   },
   "outputs": [],
   "source": [
    "PLOT = ['total', \n",
    "        'Phoenix_PHO037',\n",
    "        'Phoenix_PHO038', \n",
    "        'Phoenix_PHO039',\n",
    "        'Phoenix_PHO040',\n",
    "        'Phoenix_PHO041'\n",
    "       ]\n",
    "\n",
    "fig, ax = plt.subplots(len(PLOT), figsize=(20, 30), sharex=True)\n",
    "\n",
    "dts = pred[12:].index\n",
    "\n",
    "for i, group in enumerate(PLOT):\n",
    "    ax[i].plot(pivot_pho[12:][group], \n",
    "            lw=1.1, \n",
    "            color='#2ecc71', \n",
    "            alpha=0.8, \n",
    "            label='Truth')\n",
    "    ax[i].plot(pred[12:][group], \n",
    "            lw=1.1,\n",
    "            color='#e74c3c', \n",
    "            alpha=0.8, \n",
    "            label='Prediction')\n",
    "    ax[i].legend()\n",
    "    ax[i].set_title('Prediction VS True series')"
   ]
  },
  {
   "cell_type": "code",
   "execution_count": null,
   "metadata": {
    "id": "niRxT0ffiql8"
   },
   "outputs": [],
   "source": []
  },
  {
   "cell_type": "markdown",
   "metadata": {
    "id": "5PFg5fihinFs"
   },
   "source": [
    "### Hierarchical TimeSeries Reconciliation"
   ]
  },
  {
   "cell_type": "code",
   "execution_count": null,
   "metadata": {
    "id": "a4hmswfwhuMk"
   },
   "outputs": [],
   "source": []
  },
  {
   "cell_type": "code",
   "execution_count": null,
   "metadata": {
    "id": "XOWcqwZ8huQ1"
   },
   "outputs": [],
   "source": []
  },
  {
   "cell_type": "code",
   "execution_count": null,
   "metadata": {
    "id": "NLJUxFe7huUC"
   },
   "outputs": [],
   "source": []
  }
 ],
 "metadata": {
  "colab": {
   "provenance": []
  },
  "kernelspec": {
   "display_name": "Python 3 (ipykernel)",
   "language": "python",
   "name": "python3"
  },
  "language_info": {
   "codemirror_mode": {
    "name": "ipython",
    "version": 3
   },
   "file_extension": ".py",
   "mimetype": "text/x-python",
   "name": "python",
   "nbconvert_exporter": "python",
   "pygments_lexer": "ipython3",
   "version": "3.9.12"
  }
 },
 "nbformat": 4,
 "nbformat_minor": 1
}
