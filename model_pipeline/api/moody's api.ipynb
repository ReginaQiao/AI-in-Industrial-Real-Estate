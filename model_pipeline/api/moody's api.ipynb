{
 "cells": [
  {
   "cell_type": "code",
   "execution_count": null,
   "id": "da7ab3b9",
   "metadata": {},
   "outputs": [],
   "source": [
    "import requests\n",
    "\n",
    "API_ENDPOINT = 'https://api.moodys.com/v1/baskets'\n",
    "API_KEY = 'your-api-key'\n",
    "ACCESS_TOKEN = 'your-access-token'\n",
    "\n",
    "# Define basket parameters\n",
    "basket_name = 'My Basket'\n",
    "basket_description = 'This is my Moody\\'s basket'\n",
    "constituents = [\n",
    "    {'asset_id': 'asset1', 'weight': 0.4},\n",
    "    {'asset_id': 'asset2', 'weight': 0.3},\n",
    "    {'asset_id': 'asset3', 'weight': 0.3},\n",
    "    # Add more constituents as needed\n",
    "]\n",
    "\n",
    "# Create basket payload\n",
    "payload = {\n",
    "    'name': basket_name,\n",
    "    'description': basket_description,\n",
    "    'constituents': constituents\n",
    "}\n",
    "\n",
    "# Make API request\n",
    "headers = {\n",
    "    'X-API-KEY': API_KEY,\n",
    "    'Authorization': f'Bearer {ACCESS_TOKEN}',\n",
    "    'Content-Type': 'application/json'\n",
    "}\n",
    "\n",
    "response = requests.post(API_ENDPOINT, headers=headers, json=payload)\n",
    "\n",
    "# Handle API response\n",
    "if response.status_code == 201:  # Successful creation\n",
    "    basket_id = response.json().get('id')\n",
    "    print(f\"Basket '{basket_name}' created successfully. ID: {basket_id}\")\n",
    "    \n",
    "else:\n",
    "    print(f\"Failed to create basket '{basket_name}'. Error: {response.text}\")"
   ]
  },
  {
   "cell_type": "code",
   "execution_count": null,
   "id": "7996ad27",
   "metadata": {},
   "outputs": [],
   "source": []
  },
  {
   "cell_type": "code",
   "execution_count": null,
   "id": "fe51250a",
   "metadata": {},
   "outputs": [],
   "source": []
  },
  {
   "cell_type": "code",
   "execution_count": null,
   "id": "2e66ade2",
   "metadata": {},
   "outputs": [],
   "source": []
  },
  {
   "cell_type": "code",
   "execution_count": null,
   "id": "83461657",
   "metadata": {},
   "outputs": [],
   "source": []
  },
  {
   "cell_type": "code",
   "execution_count": null,
   "id": "008be696",
   "metadata": {},
   "outputs": [],
   "source": []
  }
 ],
 "metadata": {
  "kernelspec": {
   "display_name": "Python 3 (ipykernel)",
   "language": "python",
   "name": "python3"
  },
  "language_info": {
   "codemirror_mode": {
    "name": "ipython",
    "version": 3
   },
   "file_extension": ".py",
   "mimetype": "text/x-python",
   "name": "python",
   "nbconvert_exporter": "python",
   "pygments_lexer": "ipython3",
   "version": "3.9.12"
  }
 },
 "nbformat": 4,
 "nbformat_minor": 5
}
