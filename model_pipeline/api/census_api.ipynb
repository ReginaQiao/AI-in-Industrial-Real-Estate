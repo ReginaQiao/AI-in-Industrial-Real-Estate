{
 "cells": [
  {
   "cell_type": "code",
   "execution_count": 1,
   "id": "0299284e",
   "metadata": {},
   "outputs": [],
   "source": [
    "import pandas as pd\n",
    "import numpy as np\n",
    "import requests"
   ]
  },
  {
   "cell_type": "code",
   "execution_count": 2,
   "id": "2981d6f7",
   "metadata": {},
   "outputs": [
    {
     "data": {
      "text/html": [
       "<div>\n",
       "<style scoped>\n",
       "    .dataframe tbody tr th:only-of-type {\n",
       "        vertical-align: middle;\n",
       "    }\n",
       "\n",
       "    .dataframe tbody tr th {\n",
       "        vertical-align: top;\n",
       "    }\n",
       "\n",
       "    .dataframe thead th {\n",
       "        text-align: right;\n",
       "    }\n",
       "</style>\n",
       "<table border=\"1\" class=\"dataframe\">\n",
       "  <thead>\n",
       "    <tr style=\"text-align: right;\">\n",
       "      <th></th>\n",
       "      <th>research_market</th>\n",
       "      <th>research_submkt_id</th>\n",
       "      <th>county_geoid</th>\n",
       "      <th>pct_county_area_in_submkt</th>\n",
       "      <th>pct_submkt_area_in_county</th>\n",
       "    </tr>\n",
       "  </thead>\n",
       "  <tbody>\n",
       "    <tr>\n",
       "      <th>0</th>\n",
       "      <td>Phoenix</td>\n",
       "      <td>PHO050</td>\n",
       "      <td>4013</td>\n",
       "      <td>0.045477</td>\n",
       "      <td>1.000000</td>\n",
       "    </tr>\n",
       "    <tr>\n",
       "      <th>1</th>\n",
       "      <td>Phoenix</td>\n",
       "      <td>PHO041</td>\n",
       "      <td>4013</td>\n",
       "      <td>0.035820</td>\n",
       "      <td>1.000000</td>\n",
       "    </tr>\n",
       "    <tr>\n",
       "      <th>2</th>\n",
       "      <td>Phoenix</td>\n",
       "      <td>PHO063</td>\n",
       "      <td>4013</td>\n",
       "      <td>0.050826</td>\n",
       "      <td>1.000000</td>\n",
       "    </tr>\n",
       "    <tr>\n",
       "      <th>3</th>\n",
       "      <td>Phoenix</td>\n",
       "      <td>PHO054</td>\n",
       "      <td>4013</td>\n",
       "      <td>0.074063</td>\n",
       "      <td>0.830409</td>\n",
       "    </tr>\n",
       "    <tr>\n",
       "      <th>4</th>\n",
       "      <td>Phoenix</td>\n",
       "      <td>PHO054</td>\n",
       "      <td>4021</td>\n",
       "      <td>0.190402</td>\n",
       "      <td>0.169591</td>\n",
       "    </tr>\n",
       "  </tbody>\n",
       "</table>\n",
       "</div>"
      ],
      "text/plain": [
       "  research_market research_submkt_id  county_geoid  pct_county_area_in_submkt  \\\n",
       "0         Phoenix             PHO050          4013                   0.045477   \n",
       "1         Phoenix             PHO041          4013                   0.035820   \n",
       "2         Phoenix             PHO063          4013                   0.050826   \n",
       "3         Phoenix             PHO054          4013                   0.074063   \n",
       "4         Phoenix             PHO054          4021                   0.190402   \n",
       "\n",
       "   pct_submkt_area_in_county  \n",
       "0                   1.000000  \n",
       "1                   1.000000  \n",
       "2                   1.000000  \n",
       "3                   0.830409  \n",
       "4                   0.169591  "
      ]
     },
     "execution_count": 2,
     "metadata": {},
     "output_type": "execute_result"
    }
   ],
   "source": [
    "county_submkt_mapping = pd.read_csv('/mnt/container1/np_forecast_data/submarket_county_mapping.csv')\n",
    "county_submkt_mapping.head()"
   ]
  },
  {
   "cell_type": "code",
   "execution_count": 3,
   "id": "da065b7b",
   "metadata": {},
   "outputs": [
    {
     "data": {
      "text/plain": [
       "array(['PHO050', 'PHO041', 'PHO063', 'PHO054', 'PHO056', 'PHO042',\n",
       "       'PHO038', 'PHO058', 'PHO060', 'PHO049', 'PHO046', 'PHO061',\n",
       "       'PHO064', 'PHO037', 'PHO052', 'PHO044', 'PHO051', 'PHO062',\n",
       "       'PHO045', 'PHO040', 'PHO048', 'PHO057', 'PHO059', 'PHO039',\n",
       "       'PHO043', 'PHO047', 'PHO053', 'PHO055', 'PHO065', 'LIN114'],\n",
       "      dtype=object)"
      ]
     },
     "execution_count": 3,
     "metadata": {},
     "output_type": "execute_result"
    }
   ],
   "source": [
    "county_submkt_mapping[county_submkt_mapping['research_market']=='Phoenix']['research_submkt_id'].unique()"
   ]
  },
  {
   "cell_type": "code",
   "execution_count": 4,
   "id": "e2d7abe5",
   "metadata": {},
   "outputs": [
    {
     "data": {
      "text/plain": [
       "array(['DAL031', 'LIN076', 'DAL034-DAL035-DAL041',\n",
       "       'DAL042-DAL043-DAL044-DAL045-DAL046',\n",
       "       'DAL050-DAL051-DAL053-DAL054-DAL055',\n",
       "       'DAL037-DAL038-DAL039-DAL040', 'DAL057-FTW031', 'DAL047-DAL048',\n",
       "       'DAL052-DAL056', 'DAL049', 'FTW032-FTW033-FTW034-FTW039', 'FTW029',\n",
       "       'FTW035-FTW036-FTW037-FTW040', 'FTW038-FTW041-FTW042-FTW043'],\n",
       "      dtype=object)"
      ]
     },
     "execution_count": 4,
     "metadata": {},
     "output_type": "execute_result"
    }
   ],
   "source": [
    "county_submkt_mapping[county_submkt_mapping['research_market']=='Dallas-Fort Worth']['research_submkt_id'].unique()"
   ]
  },
  {
   "cell_type": "code",
   "execution_count": 5,
   "id": "eb559768",
   "metadata": {},
   "outputs": [],
   "source": [
    "pho_counties = county_submkt_mapping[(county_submkt_mapping['research_submkt_id']!='LIN114')&(county_submkt_mapping['research_market']=='Phoenix')]['county_geoid'].unique().tolist()\n",
    "dal_counties = county_submkt_mapping[(county_submkt_mapping['research_submkt_id']!='LIN076')&(county_submkt_mapping['research_market']=='Dallas-Fort Worth')]['county_geoid'].unique().tolist()"
   ]
  },
  {
   "cell_type": "code",
   "execution_count": 6,
   "id": "60c299ef",
   "metadata": {},
   "outputs": [
    {
     "data": {
      "text/plain": [
       "([4013, 4021, 4019],\n",
       " [48231,\n",
       "  48213,\n",
       "  48119,\n",
       "  48121,\n",
       "  48139,\n",
       "  48257,\n",
       "  48085,\n",
       "  48113,\n",
       "  48397,\n",
       "  48439,\n",
       "  48497,\n",
       "  48251,\n",
       "  48367,\n",
       "  48221])"
      ]
     },
     "execution_count": 6,
     "metadata": {},
     "output_type": "execute_result"
    }
   ],
   "source": [
    "pho_counties, dal_counties"
   ]
  },
  {
   "cell_type": "code",
   "execution_count": 7,
   "id": "fd97fa6c",
   "metadata": {},
   "outputs": [],
   "source": [
    "def get_county_fips_code(state_fips_code):\n",
    "    counties_fips_code = []\n",
    "\n",
    "    if state_fips_code == 4:\n",
    "        for num in pho_counties:\n",
    "            if str(num).startswith('4'):\n",
    "                counties_fips_code.append(str(num)[1:])\n",
    "    elif state_fips_code == 48:\n",
    "        for num in dal_counties:\n",
    "            if str(num).startswith('48'):\n",
    "                counties_fips_code.append(str(num)[2:])\n",
    "    return counties_fips_code"
   ]
  },
  {
   "cell_type": "code",
   "execution_count": 8,
   "id": "9d52a163",
   "metadata": {},
   "outputs": [
    {
     "data": {
      "text/plain": [
       "(['013', '021', '019'],\n",
       " ['231',\n",
       "  '213',\n",
       "  '119',\n",
       "  '121',\n",
       "  '139',\n",
       "  '257',\n",
       "  '085',\n",
       "  '113',\n",
       "  '397',\n",
       "  '439',\n",
       "  '497',\n",
       "  '251',\n",
       "  '367',\n",
       "  '221'])"
      ]
     },
     "execution_count": 8,
     "metadata": {},
     "output_type": "execute_result"
    }
   ],
   "source": [
    "pho_fips_codes = get_county_fips_code(4)\n",
    "dal_fips_codes = get_county_fips_code(48)\n",
    "pho_fips_codes, dal_fips_codes"
   ]
  },
  {
   "cell_type": "code",
   "execution_count": 9,
   "id": "7d550b10",
   "metadata": {},
   "outputs": [
    {
     "data": {
      "text/plain": [
       "('013,021,019', '231,213,119,121,139,257,085,113,397,439,497,251,367,221')"
      ]
     },
     "execution_count": 9,
     "metadata": {},
     "output_type": "execute_result"
    }
   ],
   "source": [
    "pho_fips_codes = ','.join(pho_fips_codes)\n",
    "dal_fips_codes = ','.join(dal_fips_codes)\n",
    "pho_fips_codes, dal_fips_codes"
   ]
  },
  {
   "cell_type": "code",
   "execution_count": null,
   "id": "ff1c69f1",
   "metadata": {},
   "outputs": [],
   "source": []
  },
  {
   "cell_type": "markdown",
   "id": "004aeb8c",
   "metadata": {},
   "source": [
    "Block Group\n",
    "\n",
    "STATE+COUNTY+TRACT+BLOCK GROUP\n",
    "\n",
    "2+3+6+1=12\n",
    "\n",
    "Block Group 1 in Census Tract 2231 in Harris County, TX\n",
    "\n",
    "482012231001"
   ]
  },
  {
   "cell_type": "code",
   "execution_count": null,
   "id": "28e07650",
   "metadata": {},
   "outputs": [],
   "source": [
    "def get_blockgroup_data(\n",
    "    year: str=None,\n",
    "    variables: str=None,\n",
    "    state_fips: str=None,\n",
    "    county_fips: str=None):\n",
    "\n",
    "    base_url = 'https://api.census.gov/data'\n",
    "    dataset = 'acs/acs5'\n",
    "\n",
    "    if year is None:\n",
    "        print('Please input variable: year.')\n",
    "    year = year\n",
    "    \n",
    "    if variables is None:\n",
    "        print('Please input variable: variables.')\n",
    "    variables = variables\n",
    "    \n",
    "    level = 'block%20group'\n",
    "    \n",
    "    if state_fips is None:\n",
    "        print('Please input varaible: state_fips.')\n",
    "\n",
    "    state_fips = state_fips+'%20'\n",
    "    \n",
    "    if county_fips is None:\n",
    "        print('Please input varaible: county_fips.')\n",
    "        \n",
    "    county_fips = county_fips  \n",
    "\n",
    "    api_key = '2caac992889c23e9fe800fc4a11ffd2248146d2c'  \n",
    "\n",
    "    url = f'{base_url}/{year}/{dataset}?get={variables}&for={level}:*&in=state:{state_fips}&in=county:{county_fips}&key={api_key}'\n",
    "\n",
    "    r = requests.get(url)\n",
    "\n",
    "    try:\n",
    "        resp = r.json()\n",
    "        if r.status_code == 200:\n",
    "            \n",
    "            data = resp[1:]\n",
    "            df = pd.DataFrame(data, columns=resp[0])\n",
    "            df['blockgroup_geoid'] = df['state'] + df['county'] + df['tract'] + df['block group']\n",
    "            df['blockgroup_geoid'] = df['blockgroup_geoid'].astype(str).apply(lambda x: int(x[1:]) if x.startswith('0') else int(x))\n",
    "            dt = f'{year}-01-01'\n",
    "            df['date'] = pd.Series([dt] * df.shape[0])\n",
    "            df['date'] = pd.to_datetime(df['date'])\n",
    "            df = df.drop(['state', 'county', 'tract','block group'], axis=1)\n",
    "            \n",
    "\n",
    "            return df\n",
    "        else:\n",
    "            print(\"Error occurred while retrieving data.\")\n",
    "    except ValueError: \n",
    "        print(f\"{year}:Response content is not valid JSON.\")"
   ]
  },
  {
   "cell_type": "code",
   "execution_count": null,
   "id": "48c9f127",
   "metadata": {},
   "outputs": [],
   "source": [
    "get_blockgroup_data(\n",
    "    year='2017',\n",
    "    variables = 'B01001_001E',\n",
    "    state_fips = '04',\n",
    "    county_fips = pho_fips_codes)"
   ]
  },
  {
   "cell_type": "code",
   "execution_count": null,
   "id": "73dbafc9",
   "metadata": {},
   "outputs": [],
   "source": [
    "def get_asc_blockgroup_data(year, variables, state_fips, county_fips):\n",
    "    dfs = pd.DataFrame()\n",
    "\n",
    "    for yr in year:\n",
    "        df = get_blockgroup_data(yr, variables, state_fips, county_fips)\n",
    "        dfs = pd.concat([dfs,df])\n",
    "\n",
    " \n",
    "        \n",
    "    return dfs\n",
    "\n",
    "\n"
   ]
  },
  {
   "cell_type": "code",
   "execution_count": null,
   "id": "5f4f08ae",
   "metadata": {
    "scrolled": true
   },
   "outputs": [],
   "source": [
    "year = [str(yr) for yr in range(2014,2022)]\n",
    "variables = 'B01001_001E'\n",
    "state_fips = '04'\n",
    "county_fips = pho_fips_codes\n",
    "pho_df = get_asc_blockgroup_data(year,variables,state_fips,county_fips)\n",
    "pho_df.head()\n"
   ]
  },
  {
   "cell_type": "code",
   "execution_count": null,
   "id": "db154e2a",
   "metadata": {},
   "outputs": [],
   "source": [
    "pho_df.shape"
   ]
  },
  {
   "cell_type": "code",
   "execution_count": null,
   "id": "b8623e00",
   "metadata": {},
   "outputs": [],
   "source": [
    "year = [str(yr) for yr in range(2014,2022)]\n",
    "variables = 'B01001_001E'\n",
    "state_fips = '48'\n",
    "county_fips = pho_fips_codes\n",
    "dal_df = get_asc_blockgroup_data(year,variables,state_fips,county_fips)\n",
    "dal_df.head()"
   ]
  },
  {
   "cell_type": "code",
   "execution_count": null,
   "id": "b421674d",
   "metadata": {},
   "outputs": [],
   "source": [
    "pho_fips_codes"
   ]
  },
  {
   "cell_type": "code",
   "execution_count": null,
   "id": "fa8a0eb4",
   "metadata": {},
   "outputs": [],
   "source": []
  },
  {
   "cell_type": "code",
   "execution_count": null,
   "id": "0ea014b2",
   "metadata": {},
   "outputs": [],
   "source": []
  },
  {
   "cell_type": "code",
   "execution_count": null,
   "id": "07c50ee5",
   "metadata": {},
   "outputs": [],
   "source": []
  },
  {
   "cell_type": "code",
   "execution_count": null,
   "id": "69cbf8bc",
   "metadata": {},
   "outputs": [],
   "source": []
  }
 ],
 "metadata": {
  "kernelspec": {
   "display_name": "Python 3 (ipykernel)",
   "language": "python",
   "name": "python3"
  },
  "language_info": {
   "codemirror_mode": {
    "name": "ipython",
    "version": 3
   },
   "file_extension": ".py",
   "mimetype": "text/x-python",
   "name": "python",
   "nbconvert_exporter": "python",
   "pygments_lexer": "ipython3",
   "version": "3.9.12"
  }
 },
 "nbformat": 4,
 "nbformat_minor": 5
}
